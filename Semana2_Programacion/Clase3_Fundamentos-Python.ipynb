{
 "cells": [
  {
   "cell_type": "markdown",
   "id": "7c264a09",
   "metadata": {},
   "source": [
    "# <span style=\"font-family:Georgia; text-align:center;\">Fundamentos de Python</span> \n",
    "<span style=\"font-family:Georgia;\">\n",
    "\n",
    "En este modulo aprenderemos los elementos esenciales de **Python**:\n",
    "1. Tipos de datos y variables en Python.\n",
    "2. Manejo básico de datos en Python (listas, diccionarios, NumPy arrays).\n",
    "3. Estructuras de control y funciones: `def` (Python)."
   ]
  },
  {
   "cell_type": "markdown",
   "id": "1869ad4f-15b3-4fe3-ba16-409c727cc113",
   "metadata": {},
   "source": [
    "## <span style=\"font-family:Georgia; text-align:center;\">Tipos de datos y variables en Python </span> \n",
    "<span style=\"font-family:Georgia;\">\n",
    "\n",
    "- **Tipado dinámico**: no se especifica el tipo al declarar la variable. El tipo se asigna automáticamente en tiempo de ejecución.\n",
    "- Variables: basta con escribir `nombre_variable = valor`.\n",
    "- Principales tipos primitivos:\n",
    "  - `int` (entero de precisión ilimitada)\n",
    "  - `float` (coma flotante de doble precisión por defecto)\n",
    "  - `bool` (verdadero/falso: `True`, `False`)\n",
    "  - `str` (cadenas de caracteres)\n",
    "- No se requiere una palabra clave especial para declarar variables (e.g. `var`, `let` no existen en Python).\n",
    "\n",
    "**Nota**: Para correr una celda de código de python en un archivo .ipybn (como este) se puede hacer con la combinación de teclas ```shift```+```enter```."
   ]
  },
  {
   "cell_type": "code",
   "execution_count": 5,
   "id": "b69e9571-7f54-4178-9dc0-39bf8a813024",
   "metadata": {},
   "outputs": [
    {
     "name": "stdout",
     "output_type": "stream",
     "text": [
      "<class 'int'> <class 'float'> <class 'str'> <class 'bool'>\n"
     ]
    }
   ],
   "source": [
    "# Ejemplo en Python:\n",
    "x = 10           # x es int\n",
    "y = 3.14         # y es float\n",
    "nombre = \"Ana\"  # nombre es str\n",
    "es_activo = True # bool\n",
    "\n",
    "print(type(x), type(y), type(nombre), type(es_activo))"
   ]
  },
  {
   "cell_type": "markdown",
   "id": "96046ade-36d7-454d-b882-f14a8470e419",
   "metadata": {},
   "source": [
    "<span style=\"font-family:Georgia;\">\n",
    "\n",
    "Si tenemos el archivo ```TiposDatos.py``` en una carpeta llamada ```Python``` que a su ves esta dentro de otra carpeta ```Ejemplos```, es decir, esta en el directorio ```Ejemplos/Python``` y queremos correrlo desde la terminal debemos poner el siguiente comando:\n",
    "```bash\n",
    "$ python Ejemplos/Python/TiposDatos.py\n",
    "```\n",
    "Y el programa se ejecutará.\n",
    "\n",
    "Puedes consultar los comandos básicos de la terminal PowerShell en la ubicación [Semana2_Programacion/Recursos/PowerShell](../Recursos/PowerShell.md)"
   ]
  },
  {
   "cell_type": "markdown",
   "id": "e941cb97-896e-4274-ae2b-fed2dd6be6a8",
   "metadata": {},
   "source": [
    "## <span style=\"font-family:Georgia; text-align:center;\">Operaciones en Python</span> \n",
    "<span style=\"font-family:Georgia;\">\n",
    "\n",
    "Podemos realizar operaciones aritméticas (`+`, `-`, `*`, `/`, `//`, `%`, `**`), así como operaciones lógicas (`and`, `or`, `not`). Por ejemplo:"
   ]
  },
  {
   "cell_type": "code",
   "execution_count": 17,
   "id": "d82e25a9-4786-4ab1-b153-8fcc73a53077",
   "metadata": {},
   "outputs": [
    {
     "name": "stdout",
     "output_type": "stream",
     "text": [
      "7\n",
      "3\n",
      "10\n",
      "2.5\n",
      "2\n",
      "1\n",
      "25\n",
      "True\n"
     ]
    }
   ],
   "source": [
    "x = 5\n",
    "y = 2\n",
    "print(x + y)  # 7\n",
    "print(x - y)  # 3\n",
    "print(x * y)  # 10\n",
    "print(x / y)  # 2.5\n",
    "print(x // y) # 2 (división entera)\n",
    "print(x % y)  # 1 (residuo o modulo)\n",
    "print(x ** y) # 25 (exponenciación)\n",
    "print((x > 2) and (y < 5)) # Secuencias lógicas"
   ]
  },
  {
   "cell_type": "code",
   "execution_count": 6,
   "id": "821dc250",
   "metadata": {
    "executionInfo": {}
   },
   "outputs": [
    {
     "name": "stdout",
     "output_type": "stream",
     "text": [
      "Tipos: <class 'int'> <class 'float'> <class 'str'> <class 'bool'>\n",
      "Suma: 15\n",
      "Área aproximada: 12.56636\n",
      "Hola, mundo!\n",
      "Negación del estado: True\n"
     ]
    }
   ],
   "source": [
    "# Ejemplo adicional en Python (mezcla de operaciones)\n",
    "x = 10                # int\n",
    "pi = 3.14159          # float\n",
    "mensaje = \"Hola\"     # str\n",
    "estado = False        # bool\n",
    "\n",
    "# Operaciones simples\n",
    "suma = x + 5        \n",
    "area = pi * (2 ** 2)  # Área de un círculo de radio 2\n",
    "saludo = mensaje + \", mundo!\"\n",
    "\n",
    "print(\"Tipos:\", type(x), type(pi), type(mensaje), type(estado))\n",
    "print(\"Suma:\", suma)\n",
    "print(\"Área aproximada:\", area)\n",
    "print(saludo)\n",
    "print(\"Negación del estado:\", not estado)"
   ]
  },
  {
   "cell_type": "markdown",
   "id": "190d512d-a8bb-493d-b481-0bdfd286a8c5",
   "metadata": {},
   "source": [
    "## <span style=\"font-family:Georgia; text-align:center;\">Manejo básico de datos</span> \n",
    "<span style=\"font-family:Georgia;\">\n",
    "\n",
    "- **Listas**: `mi_lista = [1, 2, 3]`\n",
    "  - Pueden aumentar o disminuir de tamaño dinámicamente, y pueden contener elementos de distintos tipos.\n",
    "- **Diccionarios**: `mi_dict = {\"clave\": \"valor\"}`\n",
    "  - Estructura de pares clave-valor, muy útil para búsquedas rápidas.\n",
    "- **NumPy arrays**: `np.array([1, 2, 3])`\n",
    "  - Arreglos de tamaño fijo y tipos homogéneos, muy eficientes para cálculos numéricos.\n",
    "\n",
    "A continuación, un ejemplo con cada uno y como agregar elementos a ellos:"
   ]
  },
  {
   "cell_type": "code",
   "execution_count": 19,
   "id": "4b990b50-1f63-4d24-941f-2d2762669067",
   "metadata": {},
   "outputs": [
    {
     "name": "stdout",
     "output_type": "stream",
     "text": [
      "Lista: [10, 20, 30, 40]\n",
      "Diccionario: {'nombre': 'Alice', 'edad': 25, 'pais': 'México'}\n",
      "NumPy array: [1 2 3 4 5]\n"
     ]
    }
   ],
   "source": [
    "import numpy as np\n",
    "\n",
    "# Lista\n",
    "lista = [10, 20, 30]\n",
    "lista.append(40)\n",
    "print(\"Lista:\", lista)\n",
    "\n",
    "# Diccionario\n",
    "dicc = {\"nombre\": \"Alice\", \"edad\": 25}\n",
    "dicc[\"pais\"] = \"México\"\n",
    "print(\"Diccionario:\", dicc)\n",
    "\n",
    "# NumPy array\n",
    "arr = np.array([1, 2, 3, 4, 5])\n",
    "print(\"NumPy array:\", arr)"
   ]
  },
  {
   "cell_type": "markdown",
   "id": "f09e592e",
   "metadata": {},
   "source": [
    "## <span style=\"font-family:Georgia; text-align:center;\">Entradas y salidas en Python (I/O)</span> \n",
    "<span style=\"font-family:Georgia;\">\n",
    "\n",
    "El **objetivo**  es saber leer datos del usuario, mostrar resultados de forma clara y trabajar con archivos de texto simples.\n",
    "\n",
    "### <span style=\"font-family:Georgia; text-align:center;\">Entrada por teclado: `input()`</span> \n",
    "<span style=\"font-family:Georgia;\">\n",
    "\n",
    "- `input(prompt)` **siempre** devuelve una cadena (`str`).\n",
    "- Convierte a `int` o `float` cuando lo necesites."
   ]
  },
  {
   "cell_type": "code",
   "execution_count": 1,
   "id": "ae4cad4e",
   "metadata": {},
   "outputs": [
    {
     "name": "stdout",
     "output_type": "stream",
     "text": [
      "Hola, Lalo!\n"
     ]
    }
   ],
   "source": [
    "# Ejemplos de uso de input()\n",
    "nombre = input(\"¿Cómo te llamas? \")\n",
    "print(f\"Hola, {nombre}!\")"
   ]
  },
  {
   "cell_type": "markdown",
   "id": "484135cc",
   "metadata": {},
   "source": [
    "### <span style=\"font-family:Georgia; text-align:center;\"> Salida con `print()`</span> \n",
    "<span style=\"font-family:Georgia;\">\n",
    "\n",
    "Parámetros útiles:\n",
    "- `sep` (separador entre argumentos): por defecto es un espacio.\n",
    "- `end` (carácter final): por defecto es salto de línea `\\n`."
   ]
  },
  {
   "cell_type": "code",
   "execution_count": 21,
   "id": "a5af9c66",
   "metadata": {},
   "outputs": [
    {
     "name": "stdout",
     "output_type": "stream",
     "text": [
      "a, b, c\n",
      "Sin salto <- continúa en la misma línea\n"
     ]
    }
   ],
   "source": [
    "print(\"a\", \"b\", \"c\", sep=\", \")\n",
    "print(\"Sin salto\", end=\"\"); print(\" <- continúa en la misma línea\")"
   ]
  },
  {
   "cell_type": "markdown",
   "id": "7e8d4c1b",
   "metadata": {},
   "source": [
    "### <span style=\"font-family:Georgia; text-align:center;\">Formateo de cadenas (f-strings y especificadores)</span> \n",
    "<span style=\"font-family:Georgia;\">\n",
    "\n",
    "Las **f-strings** son la forma recomendada por su claridad:\n",
    "- Decimales: `{valor:.3f}`\n",
    "- Ancho fijo con ceros a la izquierda: `{entero:08d}`\n",
    "- Porcentajes: `{p:.1%}`\n"
   ]
  },
  {
   "cell_type": "code",
   "execution_count": 22,
   "id": "0def5d52",
   "metadata": {},
   "outputs": [
    {
     "name": "stdout",
     "output_type": "stream",
     "text": [
      "pi con 3 decimales: 3.142\n",
      "entero con 8 dígitos: 00000042\n",
      "porcentaje: 12.3%\n"
     ]
    }
   ],
   "source": [
    "pi = 3.1415926535\n",
    "entero = 42\n",
    "p = 0.1234\n",
    "\n",
    "print(f\"pi con 3 decimales: {pi:.3f}\")\n",
    "print(f\"entero con 8 dígitos: {entero:08d}\")\n",
    "print(f\"porcentaje: {p:.1%}\")"
   ]
  },
  {
   "cell_type": "markdown",
   "id": "a7f6f241",
   "metadata": {},
   "source": [
    "## <span style=\"font-family:Georgia; text-align:center;\">Operaciones lógicas</span> \n",
    "<span style=\"font-family:Georgia;\">\n",
    "\n",
    " Las operaciones lógicas trabajan con valores booleanos (`True`/`False`) para combinar o negar condiciones.\n",
    "\n",
    "**Operadores:**\n",
    "- `and`: `True` solo si **ambas** condiciones son verdaderas. \n",
    "- `or`: `True` si **al menos una** condición es verdadera. \n",
    "- `not`: **niega** un valor booleano.\n",
    "\n",
    " **Tabla de verdad de `and`:**\n",
    "| and | True | False |\n",
    "|-----|------|-------|\n",
    "| **True** | True | False |\n",
    "| **False** | False | False|\n",
    "  \n",
    " **Tabla de verdad de `or`:**\n",
    "| or | True | False |\n",
    "|-----|------|-------|\n",
    "| **True** | True | True |\n",
    "| **False** | True | False|\n",
    "\n",
    "**Tabla de verdad de `not`:**\n",
    "\n",
    " | `x`   | `not x` |\n",
    " |-------|---------|\n",
    " | True  | False   |\n",
    " | False | True    |\n",
    "\n",
    "\n",
    "  **True/False comunes:** `0`, `0.0`, `\"\"`, `[]`, `{}`, `set()`, `None` son *false*; casi todo lo demás es *true*."
   ]
  },
  {
   "cell_type": "code",
   "execution_count": 31,
   "id": "71e75ba5",
   "metadata": {},
   "outputs": [
    {
     "name": "stdout",
     "output_type": "stream",
     "text": [
      "Acceso concedido\n"
     ]
    }
   ],
   "source": [
    "edad = 20\n",
    "tiene_identificacion = True\n",
    "esta_bloqueado = False\n",
    "\n",
    "mayor_de_edad = edad = 18\n",
    "puede_entrar = mayor_de_edad and tiene_identificacion and not esta_bloqueado\n",
    "\n",
    "if puede_entrar:\n",
    "    print(\"Acceso concedido\")\n",
    "else:\n",
    "    print(\"Acceso denegado\")"
   ]
  },
  {
   "cell_type": "markdown",
   "id": "3aa839b3",
   "metadata": {},
   "source": [
    "# <span style=\"font-family:Georgia; text-align:center;\">Ejercicio</span> \n",
    "<span style=\"font-family:Georgia;\">\n",
    "\n",
    "Implementa los algoritmos de la [Practica 1](https://classroom.github.com/a/qJV3dE-0) en Python. "
   ]
  },
  {
   "cell_type": "markdown",
   "id": "76e84ec7",
   "metadata": {},
   "source": [
    "## <span style=\"font-family:Georgia; text-align:center;\">Algoritmo 1</span> "
   ]
  },
  {
   "cell_type": "code",
   "execution_count": null,
   "id": "a361f01d",
   "metadata": {},
   "outputs": [],
   "source": []
  },
  {
   "cell_type": "markdown",
   "id": "13402e1d",
   "metadata": {},
   "source": [
    "## <span style=\"font-family:Georgia; text-align:center;\">Algoritmo 2</span> "
   ]
  },
  {
   "cell_type": "code",
   "execution_count": null,
   "id": "32b041fc",
   "metadata": {},
   "outputs": [],
   "source": []
  },
  {
   "cell_type": "markdown",
   "id": "5b578dc9",
   "metadata": {},
   "source": [
    "## <span style=\"font-family:Georgia; text-align:center;\">Algoritmo 3</span> "
   ]
  },
  {
   "cell_type": "code",
   "execution_count": null,
   "id": "22d69282",
   "metadata": {},
   "outputs": [],
   "source": []
  }
 ],
 "metadata": {
  "kernelspec": {
   "display_name": "Python 3",
   "language": "python",
   "name": "python3"
  },
  "language_info": {
   "codemirror_mode": {
    "name": "ipython",
    "version": 3
   },
   "file_extension": ".py",
   "mimetype": "text/x-python",
   "name": "python",
   "nbconvert_exporter": "python",
   "pygments_lexer": "ipython3",
   "version": "3.13.5"
  }
 },
 "nbformat": 4,
 "nbformat_minor": 5
}
